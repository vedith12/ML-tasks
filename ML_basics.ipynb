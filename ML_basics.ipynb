{
  "nbformat": 4,
  "nbformat_minor": 0,
  "metadata": {
    "colab": {
      "provenance": [],
      "collapsed_sections": [
        "mH6cmjmw9o8O"
      ],
      "authorship_tag": "ABX9TyPq0nweE/1M+qyLbNHKAhbS",
      "include_colab_link": true
    },
    "kernelspec": {
      "name": "python3",
      "display_name": "Python 3"
    },
    "language_info": {
      "name": "python"
    }
  },
  "cells": [
    {
      "cell_type": "markdown",
      "metadata": {
        "id": "view-in-github",
        "colab_type": "text"
      },
      "source": [
        "<a href=\"https://colab.research.google.com/github/vedith12/ML-tasks/blob/main/ML_basics.ipynb\" target=\"_parent\"><img src=\"https://colab.research.google.com/assets/colab-badge.svg\" alt=\"Open In Colab\"/></a>"
      ]
    },
    {
      "cell_type": "markdown",
      "source": [
        "# **WEEK - 1 PANDAS and MPL**"
      ],
      "metadata": {
        "id": "mH6cmjmw9o8O"
      }
    },
    {
      "cell_type": "code",
      "execution_count": null,
      "metadata": {
        "id": "aPazFQw8pKKx"
      },
      "outputs": [],
      "source": [
        "#categorical variables must be converted to numerical value before ML model\n",
        "# object datatype should also be acted upon\n",
        "# ML models always need numerical data"
      ]
    },
    {
      "cell_type": "code",
      "source": [
        "import pandas as pd\n",
        "import numpy as np"
      ],
      "metadata": {
        "id": "n7zwy6ySztgD"
      },
      "execution_count": null,
      "outputs": []
    },
    {
      "cell_type": "code",
      "source": [
        "#practice problems\n",
        "np.arange(10).reshape(2,5)"
      ],
      "metadata": {
        "colab": {
          "base_uri": "https://localhost:8080/"
        },
        "id": "zrP0rqZh4Jrr",
        "outputId": "22c7783e-e8a6-476a-ed58-7c2105bdea53"
      },
      "execution_count": null,
      "outputs": [
        {
          "output_type": "execute_result",
          "data": {
            "text/plain": [
              "array([[0, 1, 2, 3, 4],\n",
              "       [5, 6, 7, 8, 9]])"
            ]
          },
          "metadata": {},
          "execution_count": 27
        }
      ]
    },
    {
      "cell_type": "code",
      "source": [
        "### PANDAS - I - NCERT - Q.no 9\n",
        "data = {2014: [100.5,150.8, 200.9, 30000, 40000], 2015: [12000, 18000, 22000, 30000, 45000],l\n",
        "        2016: [20000, 50000, 70000, 100000, 125000], 2017: [50000, 60000, 70000, 80000, 90000]}\n",
        "sales = pd.DataFrame(data, index = ['Madhu', 'Kusum', 'Kinshuk', 'Ankit', \"Shruti\"])\n",
        "sales\n"
      ],
      "metadata": {
        "colab": {
          "base_uri": "https://localhost:8080/",
          "height": 206
        },
        "id": "19tomrHw0Q_C",
        "outputId": "79309f0b-290b-4294-a6d9-a33b1324671a"
      },
      "execution_count": null,
      "outputs": [
        {
          "output_type": "execute_result",
          "data": {
            "text/plain": [
              "            2014   2015    2016   2017\n",
              "Madhu      100.5  12000   20000  50000\n",
              "Kusum      150.8  18000   50000  60000\n",
              "Kinshuk    200.9  22000   70000  70000\n",
              "Ankit    30000.0  30000  100000  80000\n",
              "Shruti   40000.0  45000  125000  90000"
            ],
            "text/html": [
              "\n",
              "  <div id=\"df-21fceefd-40f3-4c36-99d0-bca063a31ddb\" class=\"colab-df-container\">\n",
              "    <div>\n",
              "<style scoped>\n",
              "    .dataframe tbody tr th:only-of-type {\n",
              "        vertical-align: middle;\n",
              "    }\n",
              "\n",
              "    .dataframe tbody tr th {\n",
              "        vertical-align: top;\n",
              "    }\n",
              "\n",
              "    .dataframe thead th {\n",
              "        text-align: right;\n",
              "    }\n",
              "</style>\n",
              "<table border=\"1\" class=\"dataframe\">\n",
              "  <thead>\n",
              "    <tr style=\"text-align: right;\">\n",
              "      <th></th>\n",
              "      <th>2014</th>\n",
              "      <th>2015</th>\n",
              "      <th>2016</th>\n",
              "      <th>2017</th>\n",
              "    </tr>\n",
              "  </thead>\n",
              "  <tbody>\n",
              "    <tr>\n",
              "      <th>Madhu</th>\n",
              "      <td>100.5</td>\n",
              "      <td>12000</td>\n",
              "      <td>20000</td>\n",
              "      <td>50000</td>\n",
              "    </tr>\n",
              "    <tr>\n",
              "      <th>Kusum</th>\n",
              "      <td>150.8</td>\n",
              "      <td>18000</td>\n",
              "      <td>50000</td>\n",
              "      <td>60000</td>\n",
              "    </tr>\n",
              "    <tr>\n",
              "      <th>Kinshuk</th>\n",
              "      <td>200.9</td>\n",
              "      <td>22000</td>\n",
              "      <td>70000</td>\n",
              "      <td>70000</td>\n",
              "    </tr>\n",
              "    <tr>\n",
              "      <th>Ankit</th>\n",
              "      <td>30000.0</td>\n",
              "      <td>30000</td>\n",
              "      <td>100000</td>\n",
              "      <td>80000</td>\n",
              "    </tr>\n",
              "    <tr>\n",
              "      <th>Shruti</th>\n",
              "      <td>40000.0</td>\n",
              "      <td>45000</td>\n",
              "      <td>125000</td>\n",
              "      <td>90000</td>\n",
              "    </tr>\n",
              "  </tbody>\n",
              "</table>\n",
              "</div>\n",
              "    <div class=\"colab-df-buttons\">\n",
              "\n",
              "  <div class=\"colab-df-container\">\n",
              "    <button class=\"colab-df-convert\" onclick=\"convertToInteractive('df-21fceefd-40f3-4c36-99d0-bca063a31ddb')\"\n",
              "            title=\"Convert this dataframe to an interactive table.\"\n",
              "            style=\"display:none;\">\n",
              "\n",
              "  <svg xmlns=\"http://www.w3.org/2000/svg\" height=\"24px\" viewBox=\"0 -960 960 960\">\n",
              "    <path d=\"M120-120v-720h720v720H120Zm60-500h600v-160H180v160Zm220 220h160v-160H400v160Zm0 220h160v-160H400v160ZM180-400h160v-160H180v160Zm440 0h160v-160H620v160ZM180-180h160v-160H180v160Zm440 0h160v-160H620v160Z\"/>\n",
              "  </svg>\n",
              "    </button>\n",
              "\n",
              "  <style>\n",
              "    .colab-df-container {\n",
              "      display:flex;\n",
              "      gap: 12px;\n",
              "    }\n",
              "\n",
              "    .colab-df-convert {\n",
              "      background-color: #E8F0FE;\n",
              "      border: none;\n",
              "      border-radius: 50%;\n",
              "      cursor: pointer;\n",
              "      display: none;\n",
              "      fill: #1967D2;\n",
              "      height: 32px;\n",
              "      padding: 0 0 0 0;\n",
              "      width: 32px;\n",
              "    }\n",
              "\n",
              "    .colab-df-convert:hover {\n",
              "      background-color: #E2EBFA;\n",
              "      box-shadow: 0px 1px 2px rgba(60, 64, 67, 0.3), 0px 1px 3px 1px rgba(60, 64, 67, 0.15);\n",
              "      fill: #174EA6;\n",
              "    }\n",
              "\n",
              "    .colab-df-buttons div {\n",
              "      margin-bottom: 4px;\n",
              "    }\n",
              "\n",
              "    [theme=dark] .colab-df-convert {\n",
              "      background-color: #3B4455;\n",
              "      fill: #D2E3FC;\n",
              "    }\n",
              "\n",
              "    [theme=dark] .colab-df-convert:hover {\n",
              "      background-color: #434B5C;\n",
              "      box-shadow: 0px 1px 3px 1px rgba(0, 0, 0, 0.15);\n",
              "      filter: drop-shadow(0px 1px 2px rgba(0, 0, 0, 0.3));\n",
              "      fill: #FFFFFF;\n",
              "    }\n",
              "  </style>\n",
              "\n",
              "    <script>\n",
              "      const buttonEl =\n",
              "        document.querySelector('#df-21fceefd-40f3-4c36-99d0-bca063a31ddb button.colab-df-convert');\n",
              "      buttonEl.style.display =\n",
              "        google.colab.kernel.accessAllowed ? 'block' : 'none';\n",
              "\n",
              "      async function convertToInteractive(key) {\n",
              "        const element = document.querySelector('#df-21fceefd-40f3-4c36-99d0-bca063a31ddb');\n",
              "        const dataTable =\n",
              "          await google.colab.kernel.invokeFunction('convertToInteractive',\n",
              "                                                    [key], {});\n",
              "        if (!dataTable) return;\n",
              "\n",
              "        const docLinkHtml = 'Like what you see? Visit the ' +\n",
              "          '<a target=\"_blank\" href=https://colab.research.google.com/notebooks/data_table.ipynb>data table notebook</a>'\n",
              "          + ' to learn more about interactive tables.';\n",
              "        element.innerHTML = '';\n",
              "        dataTable['output_type'] = 'display_data';\n",
              "        await google.colab.output.renderOutput(dataTable, element);\n",
              "        const docLink = document.createElement('div');\n",
              "        docLink.innerHTML = docLinkHtml;\n",
              "        element.appendChild(docLink);\n",
              "      }\n",
              "    </script>\n",
              "  </div>\n",
              "\n",
              "\n",
              "    <div id=\"df-0491e0d5-e634-41e0-a14c-75f177061d93\">\n",
              "      <button class=\"colab-df-quickchart\" onclick=\"quickchart('df-0491e0d5-e634-41e0-a14c-75f177061d93')\"\n",
              "                title=\"Suggest charts\"\n",
              "                style=\"display:none;\">\n",
              "\n",
              "<svg xmlns=\"http://www.w3.org/2000/svg\" height=\"24px\"viewBox=\"0 0 24 24\"\n",
              "     width=\"24px\">\n",
              "    <g>\n",
              "        <path d=\"M19 3H5c-1.1 0-2 .9-2 2v14c0 1.1.9 2 2 2h14c1.1 0 2-.9 2-2V5c0-1.1-.9-2-2-2zM9 17H7v-7h2v7zm4 0h-2V7h2v10zm4 0h-2v-4h2v4z\"/>\n",
              "    </g>\n",
              "</svg>\n",
              "      </button>\n",
              "\n",
              "<style>\n",
              "  .colab-df-quickchart {\n",
              "      --bg-color: #E8F0FE;\n",
              "      --fill-color: #1967D2;\n",
              "      --hover-bg-color: #E2EBFA;\n",
              "      --hover-fill-color: #174EA6;\n",
              "      --disabled-fill-color: #AAA;\n",
              "      --disabled-bg-color: #DDD;\n",
              "  }\n",
              "\n",
              "  [theme=dark] .colab-df-quickchart {\n",
              "      --bg-color: #3B4455;\n",
              "      --fill-color: #D2E3FC;\n",
              "      --hover-bg-color: #434B5C;\n",
              "      --hover-fill-color: #FFFFFF;\n",
              "      --disabled-bg-color: #3B4455;\n",
              "      --disabled-fill-color: #666;\n",
              "  }\n",
              "\n",
              "  .colab-df-quickchart {\n",
              "    background-color: var(--bg-color);\n",
              "    border: none;\n",
              "    border-radius: 50%;\n",
              "    cursor: pointer;\n",
              "    display: none;\n",
              "    fill: var(--fill-color);\n",
              "    height: 32px;\n",
              "    padding: 0;\n",
              "    width: 32px;\n",
              "  }\n",
              "\n",
              "  .colab-df-quickchart:hover {\n",
              "    background-color: var(--hover-bg-color);\n",
              "    box-shadow: 0 1px 2px rgba(60, 64, 67, 0.3), 0 1px 3px 1px rgba(60, 64, 67, 0.15);\n",
              "    fill: var(--button-hover-fill-color);\n",
              "  }\n",
              "\n",
              "  .colab-df-quickchart-complete:disabled,\n",
              "  .colab-df-quickchart-complete:disabled:hover {\n",
              "    background-color: var(--disabled-bg-color);\n",
              "    fill: var(--disabled-fill-color);\n",
              "    box-shadow: none;\n",
              "  }\n",
              "\n",
              "  .colab-df-spinner {\n",
              "    border: 2px solid var(--fill-color);\n",
              "    border-color: transparent;\n",
              "    border-bottom-color: var(--fill-color);\n",
              "    animation:\n",
              "      spin 1s steps(1) infinite;\n",
              "  }\n",
              "\n",
              "  @keyframes spin {\n",
              "    0% {\n",
              "      border-color: transparent;\n",
              "      border-bottom-color: var(--fill-color);\n",
              "      border-left-color: var(--fill-color);\n",
              "    }\n",
              "    20% {\n",
              "      border-color: transparent;\n",
              "      border-left-color: var(--fill-color);\n",
              "      border-top-color: var(--fill-color);\n",
              "    }\n",
              "    30% {\n",
              "      border-color: transparent;\n",
              "      border-left-color: var(--fill-color);\n",
              "      border-top-color: var(--fill-color);\n",
              "      border-right-color: var(--fill-color);\n",
              "    }\n",
              "    40% {\n",
              "      border-color: transparent;\n",
              "      border-right-color: var(--fill-color);\n",
              "      border-top-color: var(--fill-color);\n",
              "    }\n",
              "    60% {\n",
              "      border-color: transparent;\n",
              "      border-right-color: var(--fill-color);\n",
              "    }\n",
              "    80% {\n",
              "      border-color: transparent;\n",
              "      border-right-color: var(--fill-color);\n",
              "      border-bottom-color: var(--fill-color);\n",
              "    }\n",
              "    90% {\n",
              "      border-color: transparent;\n",
              "      border-bottom-color: var(--fill-color);\n",
              "    }\n",
              "  }\n",
              "</style>\n",
              "\n",
              "      <script>\n",
              "        async function quickchart(key) {\n",
              "          const quickchartButtonEl =\n",
              "            document.querySelector('#' + key + ' button');\n",
              "          quickchartButtonEl.disabled = true;  // To prevent multiple clicks.\n",
              "          quickchartButtonEl.classList.add('colab-df-spinner');\n",
              "          try {\n",
              "            const charts = await google.colab.kernel.invokeFunction(\n",
              "                'suggestCharts', [key], {});\n",
              "          } catch (error) {\n",
              "            console.error('Error during call to suggestCharts:', error);\n",
              "          }\n",
              "          quickchartButtonEl.classList.remove('colab-df-spinner');\n",
              "          quickchartButtonEl.classList.add('colab-df-quickchart-complete');\n",
              "        }\n",
              "        (() => {\n",
              "          let quickchartButtonEl =\n",
              "            document.querySelector('#df-0491e0d5-e634-41e0-a14c-75f177061d93 button');\n",
              "          quickchartButtonEl.style.display =\n",
              "            google.colab.kernel.accessAllowed ? 'block' : 'none';\n",
              "        })();\n",
              "      </script>\n",
              "    </div>\n",
              "\n",
              "  <div id=\"id_ca7cc5ce-2619-4c04-840c-f2bf4cabb6a4\">\n",
              "    <style>\n",
              "      .colab-df-generate {\n",
              "        background-color: #E8F0FE;\n",
              "        border: none;\n",
              "        border-radius: 50%;\n",
              "        cursor: pointer;\n",
              "        display: none;\n",
              "        fill: #1967D2;\n",
              "        height: 32px;\n",
              "        padding: 0 0 0 0;\n",
              "        width: 32px;\n",
              "      }\n",
              "\n",
              "      .colab-df-generate:hover {\n",
              "        background-color: #E2EBFA;\n",
              "        box-shadow: 0px 1px 2px rgba(60, 64, 67, 0.3), 0px 1px 3px 1px rgba(60, 64, 67, 0.15);\n",
              "        fill: #174EA6;\n",
              "      }\n",
              "\n",
              "      [theme=dark] .colab-df-generate {\n",
              "        background-color: #3B4455;\n",
              "        fill: #D2E3FC;\n",
              "      }\n",
              "\n",
              "      [theme=dark] .colab-df-generate:hover {\n",
              "        background-color: #434B5C;\n",
              "        box-shadow: 0px 1px 3px 1px rgba(0, 0, 0, 0.15);\n",
              "        filter: drop-shadow(0px 1px 2px rgba(0, 0, 0, 0.3));\n",
              "        fill: #FFFFFF;\n",
              "      }\n",
              "    </style>\n",
              "    <button class=\"colab-df-generate\" onclick=\"generateWithVariable('sales')\"\n",
              "            title=\"Generate code using this dataframe.\"\n",
              "            style=\"display:none;\">\n",
              "\n",
              "  <svg xmlns=\"http://www.w3.org/2000/svg\" height=\"24px\"viewBox=\"0 0 24 24\"\n",
              "       width=\"24px\">\n",
              "    <path d=\"M7,19H8.4L18.45,9,17,7.55,7,17.6ZM5,21V16.75L18.45,3.32a2,2,0,0,1,2.83,0l1.4,1.43a1.91,1.91,0,0,1,.58,1.4,1.91,1.91,0,0,1-.58,1.4L9.25,21ZM18.45,9,17,7.55Zm-12,3A5.31,5.31,0,0,0,4.9,8.1,5.31,5.31,0,0,0,1,6.5,5.31,5.31,0,0,0,4.9,4.9,5.31,5.31,0,0,0,6.5,1,5.31,5.31,0,0,0,8.1,4.9,5.31,5.31,0,0,0,12,6.5,5.46,5.46,0,0,0,6.5,12Z\"/>\n",
              "  </svg>\n",
              "    </button>\n",
              "    <script>\n",
              "      (() => {\n",
              "      const buttonEl =\n",
              "        document.querySelector('#id_ca7cc5ce-2619-4c04-840c-f2bf4cabb6a4 button.colab-df-generate');\n",
              "      buttonEl.style.display =\n",
              "        google.colab.kernel.accessAllowed ? 'block' : 'none';\n",
              "\n",
              "      buttonEl.onclick = () => {\n",
              "        google.colab.notebook.generateWithVariable('sales');\n",
              "      }\n",
              "      })();\n",
              "    </script>\n",
              "  </div>\n",
              "\n",
              "    </div>\n",
              "  </div>\n"
            ],
            "application/vnd.google.colaboratory.intrinsic+json": {
              "type": "dataframe",
              "variable_name": "sales",
              "summary": "{\n  \"name\": \"sales\",\n  \"rows\": 5,\n  \"fields\": [\n    {\n      \"column\": 2014,\n      \"properties\": {\n        \"dtype\": \"number\",\n        \"std\": 19412.43612180089,\n        \"min\": 100.5,\n        \"max\": 40000.0,\n        \"num_unique_values\": 5,\n        \"samples\": [\n          150.8,\n          40000.0,\n          200.9\n        ],\n        \"semantic_type\": \"\",\n        \"description\": \"\"\n      }\n    },\n    {\n      \"column\": 2015,\n      \"properties\": {\n        \"dtype\": \"number\",\n        \"std\": 12759,\n        \"min\": 12000,\n        \"max\": 45000,\n        \"num_unique_values\": 5,\n        \"samples\": [\n          18000,\n          45000,\n          22000\n        ],\n        \"semantic_type\": \"\",\n        \"description\": \"\"\n      }\n    },\n    {\n      \"column\": 2016,\n      \"properties\": {\n        \"dtype\": \"number\",\n        \"std\": 41170,\n        \"min\": 20000,\n        \"max\": 125000,\n        \"num_unique_values\": 5,\n        \"samples\": [\n          50000,\n          125000,\n          70000\n        ],\n        \"semantic_type\": \"\",\n        \"description\": \"\"\n      }\n    },\n    {\n      \"column\": 2017,\n      \"properties\": {\n        \"dtype\": \"number\",\n        \"std\": 15811,\n        \"min\": 50000,\n        \"max\": 90000,\n        \"num_unique_values\": 5,\n        \"samples\": [\n          60000,\n          90000,\n          70000\n        ],\n        \"semantic_type\": \"\",\n        \"description\": \"\"\n      }\n    }\n  ]\n}"
            }
          },
          "metadata": {},
          "execution_count": 6
        }
      ]
    },
    {
      "cell_type": "code",
      "source": [
        "print(sales.info())\n"
      ],
      "metadata": {
        "colab": {
          "base_uri": "https://localhost:8080/"
        },
        "id": "2yCHAkWa1UKS",
        "outputId": "5e33e566-e0ce-41bd-da83-3a1aebf5eebe"
      },
      "execution_count": null,
      "outputs": [
        {
          "output_type": "stream",
          "name": "stdout",
          "text": [
            "<class 'pandas.core.frame.DataFrame'>\n",
            "Index: 5 entries, Madhu to Shruti\n",
            "Data columns (total 4 columns):\n",
            " #   Column  Non-Null Count  Dtype  \n",
            "---  ------  --------------  -----  \n",
            " 0   2014    5 non-null      float64\n",
            " 1   2015    5 non-null      int64  \n",
            " 2   2016    5 non-null      int64  \n",
            " 3   2017    5 non-null      int64  \n",
            "dtypes: float64(1), int64(3)\n",
            "memory usage: 372.0+ bytes\n",
            "None\n"
          ]
        }
      ]
    },
    {
      "cell_type": "markdown",
      "source": [
        "![image.png](data:image/png;base64,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)"
      ],
      "metadata": {
        "id": "EaOWEh1C1v-y"
      }
    },
    {
      "cell_type": "code",
      "source": [
        "# Q.no 10\n",
        "\n",
        "#extracting row labels\n",
        "print(sales.index)\n",
        "\n",
        "#extracting column labels\n",
        "print(sales.columns)\n",
        "\n",
        "#datatype of each column\n",
        "print(sales.dtypes)\n",
        "\n",
        "#dimension, shape size and values of sales\n",
        "print(sales.shape)\n",
        "print(sales.size)\n",
        "print(sales.values)"
      ],
      "metadata": {
        "colab": {
          "base_uri": "https://localhost:8080/"
        },
        "id": "o5-7kc6B1YQq",
        "outputId": "1ae59e72-91f7-4ef5-a5de-cb4e26ce46ad"
      },
      "execution_count": null,
      "outputs": [
        {
          "output_type": "stream",
          "name": "stdout",
          "text": [
            "Index(['Madhu', 'Kusum', 'Kinshuk', 'Ankit', 'Shruti'], dtype='object')\n",
            "Index([2014, 2015, 2016, 2017], dtype='int64')\n",
            "2014    float64\n",
            "2015      int64\n",
            "2016      int64\n",
            "2017      int64\n",
            "dtype: object\n",
            "(5, 4)\n",
            "20\n",
            "[[1.005e+02 1.200e+04 2.000e+04 5.000e+04]\n",
            " [1.508e+02 1.800e+04 5.000e+04 6.000e+04]\n",
            " [2.009e+02 2.200e+04 7.000e+04 7.000e+04]\n",
            " [3.000e+04 3.000e+04 1.000e+05 8.000e+04]\n",
            " [4.000e+04 4.500e+04 1.250e+05 9.000e+04]]\n"
          ]
        }
      ]
    },
    {
      "cell_type": "code",
      "source": [
        "sales.loc[:]"
      ],
      "metadata": {
        "colab": {
          "base_uri": "https://localhost:8080/",
          "height": 206
        },
        "id": "OkTP0d4v72k6",
        "outputId": "f8bae7fa-a2c6-49d3-c36f-341637c52e27"
      },
      "execution_count": null,
      "outputs": [
        {
          "output_type": "execute_result",
          "data": {
            "text/plain": [
              "            2014   2015    2016   2017\n",
              "Madhu      100.5  12000   20000  50000\n",
              "Kusum      150.8  18000   50000  60000\n",
              "Kinshuk    200.9  22000   70000  70000\n",
              "Ankit    30000.0  30000  100000  80000\n",
              "Shruti   40000.0  45000  125000  90000"
            ],
            "text/html": [
              "\n",
              "  <div id=\"df-24be45db-4084-4c6d-8c2e-66805ba99802\" class=\"colab-df-container\">\n",
              "    <div>\n",
              "<style scoped>\n",
              "    .dataframe tbody tr th:only-of-type {\n",
              "        vertical-align: middle;\n",
              "    }\n",
              "\n",
              "    .dataframe tbody tr th {\n",
              "        vertical-align: top;\n",
              "    }\n",
              "\n",
              "    .dataframe thead th {\n",
              "        text-align: right;\n",
              "    }\n",
              "</style>\n",
              "<table border=\"1\" class=\"dataframe\">\n",
              "  <thead>\n",
              "    <tr style=\"text-align: right;\">\n",
              "      <th></th>\n",
              "      <th>2014</th>\n",
              "      <th>2015</th>\n",
              "      <th>2016</th>\n",
              "      <th>2017</th>\n",
              "    </tr>\n",
              "  </thead>\n",
              "  <tbody>\n",
              "    <tr>\n",
              "      <th>Madhu</th>\n",
              "      <td>100.5</td>\n",
              "      <td>12000</td>\n",
              "      <td>20000</td>\n",
              "      <td>50000</td>\n",
              "    </tr>\n",
              "    <tr>\n",
              "      <th>Kusum</th>\n",
              "      <td>150.8</td>\n",
              "      <td>18000</td>\n",
              "      <td>50000</td>\n",
              "      <td>60000</td>\n",
              "    </tr>\n",
              "    <tr>\n",
              "      <th>Kinshuk</th>\n",
              "      <td>200.9</td>\n",
              "      <td>22000</td>\n",
              "      <td>70000</td>\n",
              "      <td>70000</td>\n",
              "    </tr>\n",
              "    <tr>\n",
              "      <th>Ankit</th>\n",
              "      <td>30000.0</td>\n",
              "      <td>30000</td>\n",
              "      <td>100000</td>\n",
              "      <td>80000</td>\n",
              "    </tr>\n",
              "    <tr>\n",
              "      <th>Shruti</th>\n",
              "      <td>40000.0</td>\n",
              "      <td>45000</td>\n",
              "      <td>125000</td>\n",
              "      <td>90000</td>\n",
              "    </tr>\n",
              "  </tbody>\n",
              "</table>\n",
              "</div>\n",
              "    <div class=\"colab-df-buttons\">\n",
              "\n",
              "  <div class=\"colab-df-container\">\n",
              "    <button class=\"colab-df-convert\" onclick=\"convertToInteractive('df-24be45db-4084-4c6d-8c2e-66805ba99802')\"\n",
              "            title=\"Convert this dataframe to an interactive table.\"\n",
              "            style=\"display:none;\">\n",
              "\n",
              "  <svg xmlns=\"http://www.w3.org/2000/svg\" height=\"24px\" viewBox=\"0 -960 960 960\">\n",
              "    <path d=\"M120-120v-720h720v720H120Zm60-500h600v-160H180v160Zm220 220h160v-160H400v160Zm0 220h160v-160H400v160ZM180-400h160v-160H180v160Zm440 0h160v-160H620v160ZM180-180h160v-160H180v160Zm440 0h160v-160H620v160Z\"/>\n",
              "  </svg>\n",
              "    </button>\n",
              "\n",
              "  <style>\n",
              "    .colab-df-container {\n",
              "      display:flex;\n",
              "      gap: 12px;\n",
              "    }\n",
              "\n",
              "    .colab-df-convert {\n",
              "      background-color: #E8F0FE;\n",
              "      border: none;\n",
              "      border-radius: 50%;\n",
              "      cursor: pointer;\n",
              "      display: none;\n",
              "      fill: #1967D2;\n",
              "      height: 32px;\n",
              "      padding: 0 0 0 0;\n",
              "      width: 32px;\n",
              "    }\n",
              "\n",
              "    .colab-df-convert:hover {\n",
              "      background-color: #E2EBFA;\n",
              "      box-shadow: 0px 1px 2px rgba(60, 64, 67, 0.3), 0px 1px 3px 1px rgba(60, 64, 67, 0.15);\n",
              "      fill: #174EA6;\n",
              "    }\n",
              "\n",
              "    .colab-df-buttons div {\n",
              "      margin-bottom: 4px;\n",
              "    }\n",
              "\n",
              "    [theme=dark] .colab-df-convert {\n",
              "      background-color: #3B4455;\n",
              "      fill: #D2E3FC;\n",
              "    }\n",
              "\n",
              "    [theme=dark] .colab-df-convert:hover {\n",
              "      background-color: #434B5C;\n",
              "      box-shadow: 0px 1px 3px 1px rgba(0, 0, 0, 0.15);\n",
              "      filter: drop-shadow(0px 1px 2px rgba(0, 0, 0, 0.3));\n",
              "      fill: #FFFFFF;\n",
              "    }\n",
              "  </style>\n",
              "\n",
              "    <script>\n",
              "      const buttonEl =\n",
              "        document.querySelector('#df-24be45db-4084-4c6d-8c2e-66805ba99802 button.colab-df-convert');\n",
              "      buttonEl.style.display =\n",
              "        google.colab.kernel.accessAllowed ? 'block' : 'none';\n",
              "\n",
              "      async function convertToInteractive(key) {\n",
              "        const element = document.querySelector('#df-24be45db-4084-4c6d-8c2e-66805ba99802');\n",
              "        const dataTable =\n",
              "          await google.colab.kernel.invokeFunction('convertToInteractive',\n",
              "                                                    [key], {});\n",
              "        if (!dataTable) return;\n",
              "\n",
              "        const docLinkHtml = 'Like what you see? Visit the ' +\n",
              "          '<a target=\"_blank\" href=https://colab.research.google.com/notebooks/data_table.ipynb>data table notebook</a>'\n",
              "          + ' to learn more about interactive tables.';\n",
              "        element.innerHTML = '';\n",
              "        dataTable['output_type'] = 'display_data';\n",
              "        await google.colab.output.renderOutput(dataTable, element);\n",
              "        const docLink = document.createElement('div');\n",
              "        docLink.innerHTML = docLinkHtml;\n",
              "        element.appendChild(docLink);\n",
              "      }\n",
              "    </script>\n",
              "  </div>\n",
              "\n",
              "\n",
              "    <div id=\"df-6560b76f-1a06-49a2-aa13-43a235667b84\">\n",
              "      <button class=\"colab-df-quickchart\" onclick=\"quickchart('df-6560b76f-1a06-49a2-aa13-43a235667b84')\"\n",
              "                title=\"Suggest charts\"\n",
              "                style=\"display:none;\">\n",
              "\n",
              "<svg xmlns=\"http://www.w3.org/2000/svg\" height=\"24px\"viewBox=\"0 0 24 24\"\n",
              "     width=\"24px\">\n",
              "    <g>\n",
              "        <path d=\"M19 3H5c-1.1 0-2 .9-2 2v14c0 1.1.9 2 2 2h14c1.1 0 2-.9 2-2V5c0-1.1-.9-2-2-2zM9 17H7v-7h2v7zm4 0h-2V7h2v10zm4 0h-2v-4h2v4z\"/>\n",
              "    </g>\n",
              "</svg>\n",
              "      </button>\n",
              "\n",
              "<style>\n",
              "  .colab-df-quickchart {\n",
              "      --bg-color: #E8F0FE;\n",
              "      --fill-color: #1967D2;\n",
              "      --hover-bg-color: #E2EBFA;\n",
              "      --hover-fill-color: #174EA6;\n",
              "      --disabled-fill-color: #AAA;\n",
              "      --disabled-bg-color: #DDD;\n",
              "  }\n",
              "\n",
              "  [theme=dark] .colab-df-quickchart {\n",
              "      --bg-color: #3B4455;\n",
              "      --fill-color: #D2E3FC;\n",
              "      --hover-bg-color: #434B5C;\n",
              "      --hover-fill-color: #FFFFFF;\n",
              "      --disabled-bg-color: #3B4455;\n",
              "      --disabled-fill-color: #666;\n",
              "  }\n",
              "\n",
              "  .colab-df-quickchart {\n",
              "    background-color: var(--bg-color);\n",
              "    border: none;\n",
              "    border-radius: 50%;\n",
              "    cursor: pointer;\n",
              "    display: none;\n",
              "    fill: var(--fill-color);\n",
              "    height: 32px;\n",
              "    padding: 0;\n",
              "    width: 32px;\n",
              "  }\n",
              "\n",
              "  .colab-df-quickchart:hover {\n",
              "    background-color: var(--hover-bg-color);\n",
              "    box-shadow: 0 1px 2px rgba(60, 64, 67, 0.3), 0 1px 3px 1px rgba(60, 64, 67, 0.15);\n",
              "    fill: var(--button-hover-fill-color);\n",
              "  }\n",
              "\n",
              "  .colab-df-quickchart-complete:disabled,\n",
              "  .colab-df-quickchart-complete:disabled:hover {\n",
              "    background-color: var(--disabled-bg-color);\n",
              "    fill: var(--disabled-fill-color);\n",
              "    box-shadow: none;\n",
              "  }\n",
              "\n",
              "  .colab-df-spinner {\n",
              "    border: 2px solid var(--fill-color);\n",
              "    border-color: transparent;\n",
              "    border-bottom-color: var(--fill-color);\n",
              "    animation:\n",
              "      spin 1s steps(1) infinite;\n",
              "  }\n",
              "\n",
              "  @keyframes spin {\n",
              "    0% {\n",
              "      border-color: transparent;\n",
              "      border-bottom-color: var(--fill-color);\n",
              "      border-left-color: var(--fill-color);\n",
              "    }\n",
              "    20% {\n",
              "      border-color: transparent;\n",
              "      border-left-color: var(--fill-color);\n",
              "      border-top-color: var(--fill-color);\n",
              "    }\n",
              "    30% {\n",
              "      border-color: transparent;\n",
              "      border-left-color: var(--fill-color);\n",
              "      border-top-color: var(--fill-color);\n",
              "      border-right-color: var(--fill-color);\n",
              "    }\n",
              "    40% {\n",
              "      border-color: transparent;\n",
              "      border-right-color: var(--fill-color);\n",
              "      border-top-color: var(--fill-color);\n",
              "    }\n",
              "    60% {\n",
              "      border-color: transparent;\n",
              "      border-right-color: var(--fill-color);\n",
              "    }\n",
              "    80% {\n",
              "      border-color: transparent;\n",
              "      border-right-color: var(--fill-color);\n",
              "      border-bottom-color: var(--fill-color);\n",
              "    }\n",
              "    90% {\n",
              "      border-color: transparent;\n",
              "      border-bottom-color: var(--fill-color);\n",
              "    }\n",
              "  }\n",
              "</style>\n",
              "\n",
              "      <script>\n",
              "        async function quickchart(key) {\n",
              "          const quickchartButtonEl =\n",
              "            document.querySelector('#' + key + ' button');\n",
              "          quickchartButtonEl.disabled = true;  // To prevent multiple clicks.\n",
              "          quickchartButtonEl.classList.add('colab-df-spinner');\n",
              "          try {\n",
              "            const charts = await google.colab.kernel.invokeFunction(\n",
              "                'suggestCharts', [key], {});\n",
              "          } catch (error) {\n",
              "            console.error('Error during call to suggestCharts:', error);\n",
              "          }\n",
              "          quickchartButtonEl.classList.remove('colab-df-spinner');\n",
              "          quickchartButtonEl.classList.add('colab-df-quickchart-complete');\n",
              "        }\n",
              "        (() => {\n",
              "          let quickchartButtonEl =\n",
              "            document.querySelector('#df-6560b76f-1a06-49a2-aa13-43a235667b84 button');\n",
              "          quickchartButtonEl.style.display =\n",
              "            google.colab.kernel.accessAllowed ? 'block' : 'none';\n",
              "        })();\n",
              "      </script>\n",
              "    </div>\n",
              "\n",
              "    </div>\n",
              "  </div>\n"
            ],
            "application/vnd.google.colaboratory.intrinsic+json": {
              "type": "dataframe",
              "summary": "{\n  \"name\": \"sales\",\n  \"rows\": 5,\n  \"fields\": [\n    {\n      \"column\": 2014,\n      \"properties\": {\n        \"dtype\": \"number\",\n        \"std\": 19412.43612180089,\n        \"min\": 100.5,\n        \"max\": 40000.0,\n        \"num_unique_values\": 5,\n        \"samples\": [\n          150.8,\n          40000.0,\n          200.9\n        ],\n        \"semantic_type\": \"\",\n        \"description\": \"\"\n      }\n    },\n    {\n      \"column\": 2015,\n      \"properties\": {\n        \"dtype\": \"number\",\n        \"std\": 12759,\n        \"min\": 12000,\n        \"max\": 45000,\n        \"num_unique_values\": 5,\n        \"samples\": [\n          18000,\n          45000,\n          22000\n        ],\n        \"semantic_type\": \"\",\n        \"description\": \"\"\n      }\n    },\n    {\n      \"column\": 2016,\n      \"properties\": {\n        \"dtype\": \"number\",\n        \"std\": 41170,\n        \"min\": 20000,\n        \"max\": 125000,\n        \"num_unique_values\": 5,\n        \"samples\": [\n          50000,\n          125000,\n          70000\n        ],\n        \"semantic_type\": \"\",\n        \"description\": \"\"\n      }\n    },\n    {\n      \"column\": 2017,\n      \"properties\": {\n        \"dtype\": \"number\",\n        \"std\": 15811,\n        \"min\": 50000,\n        \"max\": 90000,\n        \"num_unique_values\": 5,\n        \"samples\": [\n          60000,\n          90000,\n          70000\n        ],\n        \"semantic_type\": \"\",\n        \"description\": \"\"\n      }\n    }\n  ]\n}"
            }
          },
          "metadata": {},
          "execution_count": 62
        }
      ]
    },
    {
      "cell_type": "code",
      "source": [],
      "metadata": {
        "id": "vD66_W6w6uTN"
      },
      "execution_count": null,
      "outputs": []
    },
    {
      "cell_type": "markdown",
      "source": [
        "# **WEEK - 2 SKLEARN**"
      ],
      "metadata": {
        "id": "cZRgfVXM9QRq"
      }
    },
    {
      "cell_type": "markdown",
      "source": [
        "1. Write a Python program to load the iris data from a given csv file into a dataframe and\n",
        "print the shape of the data, type of the data and first 3 rows."
      ],
      "metadata": {
        "id": "hPNXjmxQ_O-z"
      }
    },
    {
      "cell_type": "code",
      "source": [
        "import pandas as pd\n",
        "import sklearn\n",
        "from sklearn import datasets\n",
        "# iris = datasets.load_iris()\n",
        "irisdata = pd.read_csv(\"/content/iris.csv\")\n",
        "irisdf = pd.DataFrame(irisdata)\n",
        "print(irisdf.shape)\n",
        "\n",
        "print(irisdf.dtypes)\n",
        "\n",
        "print(irisdf.head(3))"
      ],
      "metadata": {
        "colab": {
          "base_uri": "https://localhost:8080/"
        },
        "id": "GFOWG_nX9bWK",
        "outputId": "96904372-949d-428e-9afc-949da1fe5422"
      },
      "execution_count": 28,
      "outputs": [
        {
          "output_type": "stream",
          "name": "stdout",
          "text": [
            "(150, 5)\n",
            "sepal.length    float64\n",
            "sepal.width     float64\n",
            "petal.length    float64\n",
            "petal.width     float64\n",
            "variety          object\n",
            "dtype: object\n",
            "   sepal.length  sepal.width  petal.length  petal.width variety\n",
            "0           5.1          3.5           1.4          0.2  Setosa\n",
            "1           4.9          3.0           1.4          0.2  Setosa\n",
            "2           4.7          3.2           1.3          0.2  Setosa\n"
          ]
        }
      ]
    },
    {
      "cell_type": "markdown",
      "source": [
        "2. Write a Python program using Scikit-learn to print the keys, number of rows-columns,\n",
        "feature names and the description of the Iris data."
      ],
      "metadata": {
        "id": "wH9Y-gGMCt1q"
      }
    },
    {
      "cell_type": "code",
      "source": [
        "import sklearn\n",
        "from sklearn import datasets\n",
        "iris = datasets.load_iris()\n",
        "print(iris.keys())\n",
        "print(iris.data.shape)\n",
        "print(iris.feature_names)\n",
        "print(iris.DESCR)"
      ],
      "metadata": {
        "colab": {
          "base_uri": "https://localhost:8080/"
        },
        "id": "0t-NP_hBCrBF",
        "outputId": "852d9b7b-5228-48be-df0c-9cf16168b9fa"
      },
      "execution_count": null,
      "outputs": [
        {
          "output_type": "stream",
          "name": "stdout",
          "text": [
            "dict_keys(['data', 'target', 'frame', 'target_names', 'DESCR', 'feature_names', 'filename', 'data_module'])\n",
            "(150, 4)\n",
            "['sepal length (cm)', 'sepal width (cm)', 'petal length (cm)', 'petal width (cm)']\n",
            ".. _iris_dataset:\n",
            "\n",
            "Iris plants dataset\n",
            "--------------------\n",
            "\n",
            "**Data Set Characteristics:**\n",
            "\n",
            ":Number of Instances: 150 (50 in each of three classes)\n",
            ":Number of Attributes: 4 numeric, predictive attributes and the class\n",
            ":Attribute Information:\n",
            "    - sepal length in cm\n",
            "    - sepal width in cm\n",
            "    - petal length in cm\n",
            "    - petal width in cm\n",
            "    - class:\n",
            "            - Iris-Setosa\n",
            "            - Iris-Versicolour\n",
            "            - Iris-Virginica\n",
            "\n",
            ":Summary Statistics:\n",
            "\n",
            "============== ==== ==== ======= ===== ====================\n",
            "                Min  Max   Mean    SD   Class Correlation\n",
            "============== ==== ==== ======= ===== ====================\n",
            "sepal length:   4.3  7.9   5.84   0.83    0.7826\n",
            "sepal width:    2.0  4.4   3.05   0.43   -0.4194\n",
            "petal length:   1.0  6.9   3.76   1.76    0.9490  (high!)\n",
            "petal width:    0.1  2.5   1.20   0.76    0.9565  (high!)\n",
            "============== ==== ==== ======= ===== ====================\n",
            "\n",
            ":Missing Attribute Values: None\n",
            ":Class Distribution: 33.3% for each of 3 classes.\n",
            ":Creator: R.A. Fisher\n",
            ":Donor: Michael Marshall (MARSHALL%PLU@io.arc.nasa.gov)\n",
            ":Date: July, 1988\n",
            "\n",
            "The famous Iris database, first used by Sir R.A. Fisher. The dataset is taken\n",
            "from Fisher's paper. Note that it's the same as in R, but not as in the UCI\n",
            "Machine Learning Repository, which has two wrong data points.\n",
            "\n",
            "This is perhaps the best known database to be found in the\n",
            "pattern recognition literature.  Fisher's paper is a classic in the field and\n",
            "is referenced frequently to this day.  (See Duda & Hart, for example.)  The\n",
            "data set contains 3 classes of 50 instances each, where each class refers to a\n",
            "type of iris plant.  One class is linearly separable from the other 2; the\n",
            "latter are NOT linearly separable from each other.\n",
            "\n",
            ".. dropdown:: References\n",
            "\n",
            "  - Fisher, R.A. \"The use of multiple measurements in taxonomic problems\"\n",
            "    Annual Eugenics, 7, Part II, 179-188 (1936); also in \"Contributions to\n",
            "    Mathematical Statistics\" (John Wiley, NY, 1950).\n",
            "  - Duda, R.O., & Hart, P.E. (1973) Pattern Classification and Scene Analysis.\n",
            "    (Q327.D83) John Wiley & Sons.  ISBN 0-471-22361-1.  See page 218.\n",
            "  - Dasarathy, B.V. (1980) \"Nosing Around the Neighborhood: A New System\n",
            "    Structure and Classification Rule for Recognition in Partially Exposed\n",
            "    Environments\".  IEEE Transactions on Pattern Analysis and Machine\n",
            "    Intelligence, Vol. PAMI-2, No. 1, 67-71.\n",
            "  - Gates, G.W. (1972) \"The Reduced Nearest Neighbor Rule\".  IEEE Transactions\n",
            "    on Information Theory, May 1972, 431-433.\n",
            "  - See also: 1988 MLC Proceedings, 54-64.  Cheeseman et al\"s AUTOCLASS II\n",
            "    conceptual clustering system finds 3 classes in the data.\n",
            "  - Many, many more ...\n",
            "\n"
          ]
        }
      ]
    },
    {
      "cell_type": "markdown",
      "source": [
        "3. Write a Python program to get the number of observations, missing values and nan\n",
        "values."
      ],
      "metadata": {
        "id": "ePqyVzU1D_uY"
      }
    },
    {
      "cell_type": "code",
      "source": [
        "import sklearn\n",
        "import numpy as np\n",
        "from sklearn import datasets\n",
        "iris = datasets.load_iris()\n",
        "print(\"no.of observations: \", iris.data.shape[0])\n",
        "missingvals = np.isnan(iris.data).sum()\n",
        "print(\"no.of missing values: \", missingvals)"
      ],
      "metadata": {
        "id": "I-L8sfcrD_V0",
        "colab": {
          "base_uri": "https://localhost:8080/"
        },
        "outputId": "38ab4b81-5dd8-4dc3-89e4-3fa4115de13d"
      },
      "execution_count": 17,
      "outputs": [
        {
          "output_type": "stream",
          "name": "stdout",
          "text": [
            "no.of observations:  150\n",
            "no.of missing values:  0\n"
          ]
        }
      ]
    },
    {
      "cell_type": "markdown",
      "source": [
        "4. Write a Python program to view basic statistical details like percentile, mean, std etc.\n",
        "of iris data."
      ],
      "metadata": {
        "id": "YEwYmyQ-i6mR"
      }
    },
    {
      "cell_type": "code",
      "source": [
        "import pandas as pd\n",
        "\n",
        "df = pd.read_csv('iris.csv')\n",
        "print(df.describe())\n"
      ],
      "metadata": {
        "colab": {
          "base_uri": "https://localhost:8080/"
        },
        "id": "kFycM9kBiTe9",
        "outputId": "6ff2e241-4f52-4ed8-f62a-9f50b556bf45"
      },
      "execution_count": 20,
      "outputs": [
        {
          "output_type": "stream",
          "name": "stdout",
          "text": [
            "       sepal.length  sepal.width  petal.length  petal.width\n",
            "count    150.000000   150.000000    150.000000   150.000000\n",
            "mean       5.843333     3.057333      3.758000     1.199333\n",
            "std        0.828066     0.435866      1.765298     0.762238\n",
            "min        4.300000     2.000000      1.000000     0.100000\n",
            "25%        5.100000     2.800000      1.600000     0.300000\n",
            "50%        5.800000     3.000000      4.350000     1.300000\n",
            "75%        6.400000     3.300000      5.100000     1.800000\n",
            "max        7.900000     4.400000      6.900000     2.500000\n"
          ]
        }
      ]
    },
    {
      "cell_type": "markdown",
      "source": [
        "5. Write a Python program to get observations of each species (setosa, versicolor,\n",
        "virginica) from iris data."
      ],
      "metadata": {
        "id": "nODFjfOlj8D5"
      }
    },
    {
      "cell_type": "code",
      "source": [
        "import pandas as pd\n",
        "df = pd.read_csv('iris.csv')\n",
        "groups = df.groupby('variety')\n",
        "for species, group in groups:\n",
        "    print(f\"Species: {species}\")\n",
        "    print(group)\n"
      ],
      "metadata": {
        "colab": {
          "base_uri": "https://localhost:8080/"
        },
        "id": "UftKqNzJj8el",
        "outputId": "101dfaed-336d-4aca-b162-2d161cdff632"
      },
      "execution_count": 25,
      "outputs": [
        {
          "output_type": "stream",
          "name": "stdout",
          "text": [
            "Species: Setosa\n",
            "    sepal.length  sepal.width  petal.length  petal.width variety\n",
            "0            5.1          3.5           1.4          0.2  Setosa\n",
            "1            4.9          3.0           1.4          0.2  Setosa\n",
            "2            4.7          3.2           1.3          0.2  Setosa\n",
            "3            4.6          3.1           1.5          0.2  Setosa\n",
            "4            5.0          3.6           1.4          0.2  Setosa\n",
            "5            5.4          3.9           1.7          0.4  Setosa\n",
            "6            4.6          3.4           1.4          0.3  Setosa\n",
            "7            5.0          3.4           1.5          0.2  Setosa\n",
            "8            4.4          2.9           1.4          0.2  Setosa\n",
            "9            4.9          3.1           1.5          0.1  Setosa\n",
            "10           5.4          3.7           1.5          0.2  Setosa\n",
            "11           4.8          3.4           1.6          0.2  Setosa\n",
            "12           4.8          3.0           1.4          0.1  Setosa\n",
            "13           4.3          3.0           1.1          0.1  Setosa\n",
            "14           5.8          4.0           1.2          0.2  Setosa\n",
            "15           5.7          4.4           1.5          0.4  Setosa\n",
            "16           5.4          3.9           1.3          0.4  Setosa\n",
            "17           5.1          3.5           1.4          0.3  Setosa\n",
            "18           5.7          3.8           1.7          0.3  Setosa\n",
            "19           5.1          3.8           1.5          0.3  Setosa\n",
            "20           5.4          3.4           1.7          0.2  Setosa\n",
            "21           5.1          3.7           1.5          0.4  Setosa\n",
            "22           4.6          3.6           1.0          0.2  Setosa\n",
            "23           5.1          3.3           1.7          0.5  Setosa\n",
            "24           4.8          3.4           1.9          0.2  Setosa\n",
            "25           5.0          3.0           1.6          0.2  Setosa\n",
            "26           5.0          3.4           1.6          0.4  Setosa\n",
            "27           5.2          3.5           1.5          0.2  Setosa\n",
            "28           5.2          3.4           1.4          0.2  Setosa\n",
            "29           4.7          3.2           1.6          0.2  Setosa\n",
            "30           4.8          3.1           1.6          0.2  Setosa\n",
            "31           5.4          3.4           1.5          0.4  Setosa\n",
            "32           5.2          4.1           1.5          0.1  Setosa\n",
            "33           5.5          4.2           1.4          0.2  Setosa\n",
            "34           4.9          3.1           1.5          0.2  Setosa\n",
            "35           5.0          3.2           1.2          0.2  Setosa\n",
            "36           5.5          3.5           1.3          0.2  Setosa\n",
            "37           4.9          3.6           1.4          0.1  Setosa\n",
            "38           4.4          3.0           1.3          0.2  Setosa\n",
            "39           5.1          3.4           1.5          0.2  Setosa\n",
            "40           5.0          3.5           1.3          0.3  Setosa\n",
            "41           4.5          2.3           1.3          0.3  Setosa\n",
            "42           4.4          3.2           1.3          0.2  Setosa\n",
            "43           5.0          3.5           1.6          0.6  Setosa\n",
            "44           5.1          3.8           1.9          0.4  Setosa\n",
            "45           4.8          3.0           1.4          0.3  Setosa\n",
            "46           5.1          3.8           1.6          0.2  Setosa\n",
            "47           4.6          3.2           1.4          0.2  Setosa\n",
            "48           5.3          3.7           1.5          0.2  Setosa\n",
            "49           5.0          3.3           1.4          0.2  Setosa\n",
            "Species: Versicolor\n",
            "    sepal.length  sepal.width  petal.length  petal.width     variety\n",
            "50           7.0          3.2           4.7          1.4  Versicolor\n",
            "51           6.4          3.2           4.5          1.5  Versicolor\n",
            "52           6.9          3.1           4.9          1.5  Versicolor\n",
            "53           5.5          2.3           4.0          1.3  Versicolor\n",
            "54           6.5          2.8           4.6          1.5  Versicolor\n",
            "55           5.7          2.8           4.5          1.3  Versicolor\n",
            "56           6.3          3.3           4.7          1.6  Versicolor\n",
            "57           4.9          2.4           3.3          1.0  Versicolor\n",
            "58           6.6          2.9           4.6          1.3  Versicolor\n",
            "59           5.2          2.7           3.9          1.4  Versicolor\n",
            "60           5.0          2.0           3.5          1.0  Versicolor\n",
            "61           5.9          3.0           4.2          1.5  Versicolor\n",
            "62           6.0          2.2           4.0          1.0  Versicolor\n",
            "63           6.1          2.9           4.7          1.4  Versicolor\n",
            "64           5.6          2.9           3.6          1.3  Versicolor\n",
            "65           6.7          3.1           4.4          1.4  Versicolor\n",
            "66           5.6          3.0           4.5          1.5  Versicolor\n",
            "67           5.8          2.7           4.1          1.0  Versicolor\n",
            "68           6.2          2.2           4.5          1.5  Versicolor\n",
            "69           5.6          2.5           3.9          1.1  Versicolor\n",
            "70           5.9          3.2           4.8          1.8  Versicolor\n",
            "71           6.1          2.8           4.0          1.3  Versicolor\n",
            "72           6.3          2.5           4.9          1.5  Versicolor\n",
            "73           6.1          2.8           4.7          1.2  Versicolor\n",
            "74           6.4          2.9           4.3          1.3  Versicolor\n",
            "75           6.6          3.0           4.4          1.4  Versicolor\n",
            "76           6.8          2.8           4.8          1.4  Versicolor\n",
            "77           6.7          3.0           5.0          1.7  Versicolor\n",
            "78           6.0          2.9           4.5          1.5  Versicolor\n",
            "79           5.7          2.6           3.5          1.0  Versicolor\n",
            "80           5.5          2.4           3.8          1.1  Versicolor\n",
            "81           5.5          2.4           3.7          1.0  Versicolor\n",
            "82           5.8          2.7           3.9          1.2  Versicolor\n",
            "83           6.0          2.7           5.1          1.6  Versicolor\n",
            "84           5.4          3.0           4.5          1.5  Versicolor\n",
            "85           6.0          3.4           4.5          1.6  Versicolor\n",
            "86           6.7          3.1           4.7          1.5  Versicolor\n",
            "87           6.3          2.3           4.4          1.3  Versicolor\n",
            "88           5.6          3.0           4.1          1.3  Versicolor\n",
            "89           5.5          2.5           4.0          1.3  Versicolor\n",
            "90           5.5          2.6           4.4          1.2  Versicolor\n",
            "91           6.1          3.0           4.6          1.4  Versicolor\n",
            "92           5.8          2.6           4.0          1.2  Versicolor\n",
            "93           5.0          2.3           3.3          1.0  Versicolor\n",
            "94           5.6          2.7           4.2          1.3  Versicolor\n",
            "95           5.7          3.0           4.2          1.2  Versicolor\n",
            "96           5.7          2.9           4.2          1.3  Versicolor\n",
            "97           6.2          2.9           4.3          1.3  Versicolor\n",
            "98           5.1          2.5           3.0          1.1  Versicolor\n",
            "99           5.7          2.8           4.1          1.3  Versicolor\n",
            "Species: Virginica\n",
            "     sepal.length  sepal.width  petal.length  petal.width    variety\n",
            "100           6.3          3.3           6.0          2.5  Virginica\n",
            "101           5.8          2.7           5.1          1.9  Virginica\n",
            "102           7.1          3.0           5.9          2.1  Virginica\n",
            "103           6.3          2.9           5.6          1.8  Virginica\n",
            "104           6.5          3.0           5.8          2.2  Virginica\n",
            "105           7.6          3.0           6.6          2.1  Virginica\n",
            "106           4.9          2.5           4.5          1.7  Virginica\n",
            "107           7.3          2.9           6.3          1.8  Virginica\n",
            "108           6.7          2.5           5.8          1.8  Virginica\n",
            "109           7.2          3.6           6.1          2.5  Virginica\n",
            "110           6.5          3.2           5.1          2.0  Virginica\n",
            "111           6.4          2.7           5.3          1.9  Virginica\n",
            "112           6.8          3.0           5.5          2.1  Virginica\n",
            "113           5.7          2.5           5.0          2.0  Virginica\n",
            "114           5.8          2.8           5.1          2.4  Virginica\n",
            "115           6.4          3.2           5.3          2.3  Virginica\n",
            "116           6.5          3.0           5.5          1.8  Virginica\n",
            "117           7.7          3.8           6.7          2.2  Virginica\n",
            "118           7.7          2.6           6.9          2.3  Virginica\n",
            "119           6.0          2.2           5.0          1.5  Virginica\n",
            "120           6.9          3.2           5.7          2.3  Virginica\n",
            "121           5.6          2.8           4.9          2.0  Virginica\n",
            "122           7.7          2.8           6.7          2.0  Virginica\n",
            "123           6.3          2.7           4.9          1.8  Virginica\n",
            "124           6.7          3.3           5.7          2.1  Virginica\n",
            "125           7.2          3.2           6.0          1.8  Virginica\n",
            "126           6.2          2.8           4.8          1.8  Virginica\n",
            "127           6.1          3.0           4.9          1.8  Virginica\n",
            "128           6.4          2.8           5.6          2.1  Virginica\n",
            "129           7.2          3.0           5.8          1.6  Virginica\n",
            "130           7.4          2.8           6.1          1.9  Virginica\n",
            "131           7.9          3.8           6.4          2.0  Virginica\n",
            "132           6.4          2.8           5.6          2.2  Virginica\n",
            "133           6.3          2.8           5.1          1.5  Virginica\n",
            "134           6.1          2.6           5.6          1.4  Virginica\n",
            "135           7.7          3.0           6.1          2.3  Virginica\n",
            "136           6.3          3.4           5.6          2.4  Virginica\n",
            "137           6.4          3.1           5.5          1.8  Virginica\n",
            "138           6.0          3.0           4.8          1.8  Virginica\n",
            "139           6.9          3.1           5.4          2.1  Virginica\n",
            "140           6.7          3.1           5.6          2.4  Virginica\n",
            "141           6.9          3.1           5.1          2.3  Virginica\n",
            "142           5.8          2.7           5.1          1.9  Virginica\n",
            "143           6.8          3.2           5.9          2.3  Virginica\n",
            "144           6.7          3.3           5.7          2.5  Virginica\n",
            "145           6.7          3.0           5.2          2.3  Virginica\n",
            "146           6.3          2.5           5.0          1.9  Virginica\n",
            "147           6.5          3.0           5.2          2.0  Virginica\n",
            "148           6.2          3.4           5.4          2.3  Virginica\n",
            "149           5.9          3.0           5.1          1.8  Virginica\n"
          ]
        }
      ]
    },
    {
      "cell_type": "markdown",
      "source": [
        "6. Write a Python program to drop Id column from a given Dataframe and print the\n",
        "modified part. Call iris.csv to create the Dataframe."
      ],
      "metadata": {
        "id": "apWSN76akcKA"
      }
    },
    {
      "cell_type": "code",
      "source": [
        "import pandas as pd\n",
        "df = pd.read_csv('iris.csv')\n",
        "df['Id'] = range(1, len(df) + 1) #adding id column since it does not exist in the csv file considered.\n",
        "print(\"DataFrame with Id column:\")\n",
        "print(df.head())\n",
        "dfmodified = df.drop('Id', axis = 1)\n",
        "print(dfmodified.head())"
      ],
      "metadata": {
        "colab": {
          "base_uri": "https://localhost:8080/"
        },
        "id": "zcmRT_hDkeK5",
        "outputId": "3f368054-0138-4ffa-d9f7-d7a410eefe6d"
      },
      "execution_count": 30,
      "outputs": [
        {
          "output_type": "stream",
          "name": "stdout",
          "text": [
            "DataFrame with Id column:\n",
            "   sepal.length  sepal.width  petal.length  petal.width variety  Id\n",
            "0           5.1          3.5           1.4          0.2  Setosa   1\n",
            "1           4.9          3.0           1.4          0.2  Setosa   2\n",
            "2           4.7          3.2           1.3          0.2  Setosa   3\n",
            "3           4.6          3.1           1.5          0.2  Setosa   4\n",
            "4           5.0          3.6           1.4          0.2  Setosa   5\n",
            "   sepal.length  sepal.width  petal.length  petal.width variety\n",
            "0           5.1          3.5           1.4          0.2  Setosa\n",
            "1           4.9          3.0           1.4          0.2  Setosa\n",
            "2           4.7          3.2           1.3          0.2  Setosa\n",
            "3           4.6          3.1           1.5          0.2  Setosa\n",
            "4           5.0          3.6           1.4          0.2  Setosa\n"
          ]
        }
      ]
    },
    {
      "cell_type": "markdown",
      "source": [
        "7. Write a Python program to access first four cells from a given Dataframe using the\n",
        "index and column labels. Call iris.csv to create the Dataframe."
      ],
      "metadata": {
        "id": "8Hm2DMEPl6sd"
      }
    },
    {
      "cell_type": "code",
      "source": [
        "import pandas as pd\n",
        "df = pd.read_csv('iris.csv')\n",
        "print(df.iloc[0:1, 0:4])  # first row and first 4 columns\n",
        "print(df.loc[0, df.columns[0:4]])"
      ],
      "metadata": {
        "colab": {
          "base_uri": "https://localhost:8080/"
        },
        "id": "D29jLIhxl9zu",
        "outputId": "d382e58d-5c4b-4bb0-e638-63453c032491"
      },
      "execution_count": 31,
      "outputs": [
        {
          "output_type": "stream",
          "name": "stdout",
          "text": [
            "   sepal.length  sepal.width  petal.length  petal.width\n",
            "0           5.1          3.5           1.4          0.2\n",
            "sepal.length    5.1\n",
            "sepal.width     3.5\n",
            "petal.length    1.4\n",
            "petal.width     0.2\n",
            "Name: 0, dtype: object\n"
          ]
        }
      ]
    },
    {
      "cell_type": "markdown",
      "source": [
        "8. Write a Python program to create a plot to get a general Statistics of Iris data."
      ],
      "metadata": {
        "id": "ZMleXL0pmUEH"
      }
    },
    {
      "cell_type": "code",
      "source": [
        "import pandas as pd\n",
        "import matplotlib.pyplot as plt\n",
        "df = pd.read_csv('iris.csv')\n",
        "df.describe().plot(kind='bar')\n",
        "plt.title('General Statistics of IRIS Data')\n",
        "plt.tight_layout()\n",
        "plt.show()\n"
      ],
      "metadata": {
        "colab": {
          "base_uri": "https://localhost:8080/",
          "height": 487
        },
        "id": "Z-hWvw7TmYTj",
        "outputId": "c349e352-ab70-4050-9940-19f29ad3f58b"
      },
      "execution_count": 33,
      "outputs": [
        {
          "output_type": "display_data",
          "data": {
            "text/plain": [
              "<Figure size 640x480 with 1 Axes>"
            ],
            "image/png": "[encoded data removed]"
          },
          "metadata": {}
        }
      ]
    },
    {
      "cell_type": "markdown",
      "source": [
        "9. Write a Python program to create a Bar plot to get the frequency of the three species\n",
        "of the Iris data."
      ],
      "metadata": {
        "id": "6nF5FMsEmlx3"
      }
    },
    {
      "cell_type": "code",
      "source": [
        "import seaborn as sns\n",
        "import pandas as pd\n",
        "df = pd.read_csv('iris.csv')\n",
        "sns.countplot(x='variety', data=df)\n",
        "plt.title('Species Frequency')\n",
        "plt.show()"
      ],
      "metadata": {
        "colab": {
          "base_uri": "https://localhost:8080/",
          "height": 472
        },
        "id": "qoGMHqU5muh6",
        "outputId": "67d030de-7489-4075-caf2-71434d4f05c0"
      },
      "execution_count": 35,
      "outputs": [
        {
          "output_type": "display_data",
          "data": {
            "text/plain": [
              "<Figure size 640x480 with 1 Axes>"
            ],
            "image/png": "[encoded data removed]"
          },
          "metadata": {}
        }
      ]
    },
    {
      "cell_type": "markdown",
      "source": [
        "10. Write a Python program to create a Pie plot to get the frequency of the three species of\n",
        "the Iris data."
      ],
      "metadata": {
        "id": "hLI3Ebnem3AJ"
      }
    },
    {
      "cell_type": "code",
      "source": [
        "import pandas as pd\n",
        "df = pd.read_csv('iris.csv')\n",
        "df['variety'].value_counts().plot.pie(autopct='%1.1f%%')\n",
        "plt.title('Species Distribution')\n",
        "plt.ylabel('')\n",
        "plt.show()\n"
      ],
      "metadata": {
        "colab": {
          "base_uri": "https://localhost:8080/",
          "height": 428
        },
        "id": "Kv4t_FIMmijY",
        "outputId": "c5371959-5a6b-457f-ab72-4d58cf8ed318"
      },
      "execution_count": 36,
      "outputs": [
        {
          "output_type": "display_data",
          "data": {
            "text/plain": [
              "<Figure size 640x480 with 1 Axes>"
            ],
            "image/png": "[encoded data removed]"
          },
          "metadata": {}
        }
      ]
    },
    {
      "cell_type": "markdown",
      "source": [
        "11. Write a Python program to create a graph to find relationship between the sepal length\n",
        "and width."
      ],
      "metadata": {
        "id": "ZB9Ray_FnAhu"
      }
    },
    {
      "cell_type": "code",
      "source": [
        "import pandas as pd\n",
        "import matplotlib.pyplot as plt\n",
        "\n",
        "df = pd.read_csv('iris.csv')\n",
        "\n",
        "df.plot.scatter(x='sepal.length', y='sepal.width', c= 'Orange')\n",
        "plt.show()\n"
      ],
      "metadata": {
        "colab": {
          "base_uri": "https://localhost:8080/",
          "height": 452
        },
        "id": "nHtLXrM-nWXG",
        "outputId": "94552cca-ee7a-457f-a5ac-951165e67eba"
      },
      "execution_count": 48,
      "outputs": [
        {
          "output_type": "display_data",
          "data": {
            "text/plain": [
              "<Figure size 640x480 with 1 Axes>"
            ],
            "image/png": "[encoded data removed]"
          },
          "metadata": {}
        }
      ]
    },
    {
      "cell_type": "markdown",
      "source": [
        "12. Write a Python program to create a graph to find relationship between the petal length\n",
        "and width."
      ],
      "metadata": {
        "id": "cc-7DetunD5c"
      }
    },
    {
      "cell_type": "code",
      "source": [
        "import pandas as pd\n",
        "import matplotlib.pyplot as plt\n",
        "df = pd.read_csv('iris.csv')\n",
        "df.plot.scatter(x='petal.length', y= 'petal.width', c = 'red')\n",
        "plt.show()"
      ],
      "metadata": {
        "colab": {
          "base_uri": "https://localhost:8080/",
          "height": 449
        },
        "id": "rECpSuRmoFqP",
        "outputId": "6d14e10c-583c-484d-a769-8772224c7b04"
      },
      "execution_count": 50,
      "outputs": [
        {
          "output_type": "display_data",
          "data": {
            "text/plain": [
              "<Figure size 640x480 with 1 Axes>"
            ],
            "image/png": "[encoded data removed]"
          },
          "metadata": {}
        }
      ]
    },
    {
      "cell_type": "markdown",
      "source": [
        "13. Write a Python program to create a graph to see how the length and width of\n",
        "SepalLength, SepalWidth, PetalLength, PetalWidth are distributed."
      ],
      "metadata": {
        "id": "nJ5lsuWenEw9"
      }
    },
    {
      "cell_type": "code",
      "source": [
        "df[['sepal.length','sepal.width','petal.length','petal.width']].hist(figsize=(10,8))\n",
        "plt.suptitle(\"Feature Distributions\")\n",
        "plt.show()\n",
        "\n",
        "# import seaborn as sns\n",
        "# sns.pairplot(df, hue='variety')\n",
        "# plt.suptitle(\"Pairwise Plot of All Features\")\n",
        "# plt.show()\n",
        "\n"
      ],
      "metadata": {
        "colab": {
          "base_uri": "https://localhost:8080/",
          "height": 756
        },
        "id": "MQodWEJipBdf",
        "outputId": "aadb9868-1eeb-438a-a1de-6df65e64fa55"
      },
      "execution_count": 55,
      "outputs": [
        {
          "output_type": "display_data",
          "data": {
            "text/plain": [
              "<Figure size 1000x800 with 4 Axes>"
            ],
            "image/png": "[encoded data removed]"
          },
          "metadata": {}
        }
      ]
    },
    {
      "cell_type": "markdown",
      "source": [
        "14. Write a Python program to create a joinplot to describe individual distributions on the\n",
        "same plot between Sepal length and Sepal width."
      ],
      "metadata": {
        "id": "193M8OyxnHN3"
      }
    },
    {
      "cell_type": "markdown",
      "source": [
        "15. Write a Python program to create a joinplot using \"hexbin\" to describe individual\n",
        "distributions on the same plot between Sepal length and Sepal width."
      ],
      "metadata": {
        "id": "z5cKI3VmnHyC"
      }
    },
    {
      "cell_type": "markdown",
      "source": [
        "16. Write a Python program to create a joinplot using \"kde\" to describe individual\n",
        "distributions on the same plot between Sepal length and Sepal width."
      ],
      "metadata": {
        "id": "KOAaZaMLnKsf"
      }
    },
    {
      "cell_type": "markdown",
      "source": [
        "17. Write a Python program to draw a scatterplot, then add a joint density estimate to\n",
        "describe individual distributions on the same plot between Sepal length and Sepal\n",
        "width."
      ],
      "metadata": {
        "id": "AtCTy0JSnMRJ"
      }
    },
    {
      "cell_type": "markdown",
      "source": [
        "18. Write a Python program to find the correlation between variables of iris data. Also\n",
        "create a hitmap using Seaborn to present their relations."
      ],
      "metadata": {
        "id": "-RyBx29-nNQ2"
      }
    },
    {
      "cell_type": "markdown",
      "source": [
        "19. Write a Python program to create a box plot (or box-and-whisker plot) which shows\n",
        "the distribution of quantitative data in a way that facilitates comparisons between\n",
        "variables or across levels of a categorical variable of iris dataset. Use seaborn."
      ],
      "metadata": {
        "id": "vfaq5AovnOvK"
      }
    },
    {
      "cell_type": "markdown",
      "source": [
        "20. Write a Python program to split the iris dataset into its attributes (X) and labels (y).\n",
        "The X variable contains the first four columns (i.e. attributes) and y contains the labels\n",
        "of the dataset."
      ],
      "metadata": {
        "id": "0Q-CI7jWnPu-"
      }
    },
    {
      "cell_type": "markdown",
      "source": [
        "21. Write a Python program using Scikit-learn to split the iris dataset into 70% train data\n",
        "and 30% test data. Out of total 150 records, the training set will contain 120 records\n",
        "and the test set contains 30 of those records. Print both datasets."
      ],
      "metadata": {
        "id": "BJXM4lz7nRIs"
      }
    },
    {
      "cell_type": "markdown",
      "source": [
        "22. Write a Python program using Scikit-learn to convert Species columns in a numerical\n",
        "column of the iris dataframe. To encode this data map convert each value to a number.\n",
        "e.g. Iris-setosa:0, Iris-versicolor:1, and Iris-virginica:2. Now print the iris dataset into\n",
        "80% train data and 20% test data. Out of total 150 records, the training set will contain\n",
        "120 records and the test set contains 30 of those records. Print both datasets."
      ],
      "metadata": {
        "id": "OEcDIckonSPi"
      }
    },
    {
      "cell_type": "code",
      "source": [],
      "metadata": {
        "id": "4zM1y_2DnSpz"
      },
      "execution_count": null,
      "outputs": []
    }
  ]
}